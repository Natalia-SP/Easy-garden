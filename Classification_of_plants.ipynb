{
  "nbformat": 4,
  "nbformat_minor": 0,
  "metadata": {
    "colab": {
      "name": "Classification_of_plants_V.ipynb",
      "provenance": [],
      "collapsed_sections": []
    },
    "kernelspec": {
      "name": "python3",
      "display_name": "Python 3"
    },
    "accelerator": "GPU"
  },
  "cells": [
    {
      "cell_type": "markdown",
      "metadata": {
        "id": "2U1cuf_rAzuf",
        "colab_type": "text"
      },
      "source": [
        "# Google Drive\n",
        "\n"
      ]
    },
    {
      "cell_type": "code",
      "metadata": {
        "id": "1zRFZTtd-Pfg",
        "colab_type": "code",
        "outputId": "5a02e0d7-225f-429d-bb35-7a5d1412abe5",
        "colab": {
          "base_uri": "https://localhost:8080/",
          "height": 34
        }
      },
      "source": [
        "from google.colab import drive\n",
        "drive.mount('/content/gdrive')"
      ],
      "execution_count": 2,
      "outputs": [
        {
          "output_type": "stream",
          "text": [
            "Drive already mounted at /content/gdrive; to attempt to forcibly remount, call drive.mount(\"/content/gdrive\", force_remount=True).\n"
          ],
          "name": "stdout"
        }
      ]
    },
    {
      "cell_type": "markdown",
      "metadata": {
        "id": "bxI5hKcsB1ze",
        "colab_type": "text"
      },
      "source": [
        "# TensorFlow Installation\n",
        "\n",
        "Need to install tensorflow gpu alpha version to develop the model on latest version. \n"
      ]
    },
    {
      "cell_type": "code",
      "metadata": {
        "id": "wplW3tdwFOlV",
        "colab_type": "code",
        "outputId": "74a77f7c-62ab-400d-8a99-e9eb58a208d8",
        "colab": {
          "base_uri": "https://localhost:8080/",
          "height": 360
        }
      },
      "source": [
        "!pip install tensorflow-gpu==2.0.0-alpha0"
      ],
      "execution_count": 3,
      "outputs": [
        {
          "output_type": "stream",
          "text": [
            "Requirement already satisfied: tensorflow-gpu==2.0.0-alpha0 in /usr/local/lib/python3.6/dist-packages (2.0.0a0)\n",
            "Requirement already satisfied: tf-estimator-nightly<1.14.0.dev2019030116,>=1.14.0.dev2019030115 in /usr/local/lib/python3.6/dist-packages (from tensorflow-gpu==2.0.0-alpha0) (1.14.0.dev2019030115)\n",
            "Requirement already satisfied: grpcio>=1.8.6 in /usr/local/lib/python3.6/dist-packages (from tensorflow-gpu==2.0.0-alpha0) (1.27.1)\n",
            "Requirement already satisfied: gast>=0.2.0 in /usr/local/lib/python3.6/dist-packages (from tensorflow-gpu==2.0.0-alpha0) (0.2.2)\n",
            "Requirement already satisfied: astor>=0.6.0 in /usr/local/lib/python3.6/dist-packages (from tensorflow-gpu==2.0.0-alpha0) (0.8.1)\n",
            "Requirement already satisfied: numpy<2.0,>=1.14.5 in /usr/local/lib/python3.6/dist-packages (from tensorflow-gpu==2.0.0-alpha0) (1.17.5)\n",
            "Requirement already satisfied: protobuf>=3.6.1 in /usr/local/lib/python3.6/dist-packages (from tensorflow-gpu==2.0.0-alpha0) (3.10.0)\n",
            "Requirement already satisfied: wheel>=0.26 in /usr/local/lib/python3.6/dist-packages (from tensorflow-gpu==2.0.0-alpha0) (0.34.2)\n",
            "Requirement already satisfied: absl-py>=0.7.0 in /usr/local/lib/python3.6/dist-packages (from tensorflow-gpu==2.0.0-alpha0) (0.9.0)\n",
            "Requirement already satisfied: keras-applications>=1.0.6 in /usr/local/lib/python3.6/dist-packages (from tensorflow-gpu==2.0.0-alpha0) (1.0.8)\n",
            "Requirement already satisfied: six>=1.10.0 in /usr/local/lib/python3.6/dist-packages (from tensorflow-gpu==2.0.0-alpha0) (1.12.0)\n",
            "Requirement already satisfied: keras-preprocessing>=1.0.5 in /usr/local/lib/python3.6/dist-packages (from tensorflow-gpu==2.0.0-alpha0) (1.1.0)\n",
            "Requirement already satisfied: termcolor>=1.1.0 in /usr/local/lib/python3.6/dist-packages (from tensorflow-gpu==2.0.0-alpha0) (1.1.0)\n",
            "Requirement already satisfied: google-pasta>=0.1.2 in /usr/local/lib/python3.6/dist-packages (from tensorflow-gpu==2.0.0-alpha0) (0.1.8)\n",
            "Requirement already satisfied: tb-nightly<1.14.0a20190302,>=1.14.0a20190301 in /usr/local/lib/python3.6/dist-packages (from tensorflow-gpu==2.0.0-alpha0) (1.14.0a20190301)\n",
            "Requirement already satisfied: setuptools in /usr/local/lib/python3.6/dist-packages (from protobuf>=3.6.1->tensorflow-gpu==2.0.0-alpha0) (45.1.0)\n",
            "Requirement already satisfied: h5py in /usr/local/lib/python3.6/dist-packages (from keras-applications>=1.0.6->tensorflow-gpu==2.0.0-alpha0) (2.8.0)\n",
            "Requirement already satisfied: markdown>=2.6.8 in /usr/local/lib/python3.6/dist-packages (from tb-nightly<1.14.0a20190302,>=1.14.0a20190301->tensorflow-gpu==2.0.0-alpha0) (3.2.1)\n",
            "Requirement already satisfied: werkzeug>=0.11.15 in /usr/local/lib/python3.6/dist-packages (from tb-nightly<1.14.0a20190302,>=1.14.0a20190301->tensorflow-gpu==2.0.0-alpha0) (1.0.0)\n"
          ],
          "name": "stdout"
        }
      ]
    },
    {
      "cell_type": "markdown",
      "metadata": {
        "id": "dH7PRNNaCvRG",
        "colab_type": "text"
      },
      "source": [
        "# Libraries\n",
        " "
      ]
    },
    {
      "cell_type": "code",
      "metadata": {
        "id": "qacMFu1tKfJV",
        "colab_type": "code",
        "outputId": "cad54c62-6840-47f6-edb9-ec34f4a263a7",
        "colab": {
          "base_uri": "https://localhost:8080/",
          "height": 462
        }
      },
      "source": [
        "from __future__ import absolute_import, division, print_function, unicode_literals;\n",
        "import tensorflow as tf\n",
        "import numpy as np;\n",
        "from matplotlib import pyplot as plt;\n",
        "import os;\n",
        "import pathlib;\n",
        "import random;\n",
        "from sklearn.metrics import classification_report, confusion_matrix;\n",
        
      ],
      "execution_count": 4,
      "outputs": [
        {
          "output_type": "stream",
          "text": [
            "/usr/local/lib/python3.6/dist-packages/tensorflow/python/framework/dtypes.py:523: FutureWarning: Passing (type, 1) or '1type' as a synonym of type is deprecated; in a future version of numpy, it will be understood as (type, (1,)) / '(1,)type'.\n",
            "  _np_qint8 = np.dtype([(\"qint8\", np.int8, 1)])\n",
            "/usr/local/lib/python3.6/dist-packages/tensorflow/python/framework/dtypes.py:524: FutureWarning: Passing (type, 1) or '1type' as a synonym of type is deprecated; in a future version of numpy, it will be understood as (type, (1,)) / '(1,)type'.\n",
            "  _np_quint8 = np.dtype([(\"quint8\", np.uint8, 1)])\n",
            "/usr/local/lib/python3.6/dist-packages/tensorflow/python/framework/dtypes.py:525: FutureWarning: Passing (type, 1) or '1type' as a synonym of type is deprecated; in a future version of numpy, it will be understood as (type, (1,)) / '(1,)type'.\n",
            "  _np_qint16 = np.dtype([(\"qint16\", np.int16, 1)])\n",
            "/usr/local/lib/python3.6/dist-packages/tensorflow/python/framework/dtypes.py:526: FutureWarning: Passing (type, 1) or '1type' as a synonym of type is deprecated; in a future version of numpy, it will be understood as (type, (1,)) / '(1,)type'.\n",
            "  _np_quint16 = np.dtype([(\"quint16\", np.uint16, 1)])\n",
            "/usr/local/lib/python3.6/dist-packages/tensorflow/python/framework/dtypes.py:527: FutureWarning: Passing (type, 1) or '1type' as a synonym of type is deprecated; in a future version of numpy, it will be understood as (type, (1,)) / '(1,)type'.\n",
            "  _np_qint32 = np.dtype([(\"qint32\", np.int32, 1)])\n",
            "/usr/local/lib/python3.6/dist-packages/tensorflow/python/framework/dtypes.py:532: FutureWarning: Passing (type, 1) or '1type' as a synonym of type is deprecated; in a future version of numpy, it will be understood as (type, (1,)) / '(1,)type'.\n",
            "  np_resource = np.dtype([(\"resource\", np.ubyte, 1)])\n",
            "/usr/local/lib/python3.6/dist-packages/tensorboard/compat/tensorflow_stub/dtypes.py:541: FutureWarning: Passing (type, 1) or '1type' as a synonym of type is deprecated; in a future version of numpy, it will be understood as (type, (1,)) / '(1,)type'.\n",
            "  _np_qint8 = np.dtype([(\"qint8\", np.int8, 1)])\n",
            "/usr/local/lib/python3.6/dist-packages/tensorboard/compat/tensorflow_stub/dtypes.py:542: FutureWarning: Passing (type, 1) or '1type' as a synonym of type is deprecated; in a future version of numpy, it will be understood as (type, (1,)) / '(1,)type'.\n",
            "  _np_quint8 = np.dtype([(\"quint8\", np.uint8, 1)])\n",
            "/usr/local/lib/python3.6/dist-packages/tensorboard/compat/tensorflow_stub/dtypes.py:543: FutureWarning: Passing (type, 1) or '1type' as a synonym of type is deprecated; in a future version of numpy, it will be understood as (type, (1,)) / '(1,)type'.\n",
            "  _np_qint16 = np.dtype([(\"qint16\", np.int16, 1)])\n",
            "/usr/local/lib/python3.6/dist-packages/tensorboard/compat/tensorflow_stub/dtypes.py:544: FutureWarning: Passing (type, 1) or '1type' as a synonym of type is deprecated; in a future version of numpy, it will be understood as (type, (1,)) / '(1,)type'.\n",
            "  _np_quint16 = np.dtype([(\"quint16\", np.uint16, 1)])\n",
            "/usr/local/lib/python3.6/dist-packages/tensorboard/compat/tensorflow_stub/dtypes.py:545: FutureWarning: Passing (type, 1) or '1type' as a synonym of type is deprecated; in a future version of numpy, it will be understood as (type, (1,)) / '(1,)type'.\n",
            "  _np_qint32 = np.dtype([(\"qint32\", np.int32, 1)])\n",
            "/usr/local/lib/python3.6/dist-packages/tensorboard/compat/tensorflow_stub/dtypes.py:550: FutureWarning: Passing (type, 1) or '1type' as a synonym of type is deprecated; in a future version of numpy, it will be understood as (type, (1,)) / '(1,)type'.\n",
            "  np_resource = np.dtype([(\"resource\", np.ubyte, 1)])\n"
          ],
          "name": "stderr"
        },
        {
          "output_type": "stream",
          "text": [
            "2.0.0-alpha0\n"
          ],
          "name": "stdout"
        }
      ]
    },
    {
      "cell_type": "markdown",
      "metadata": {
        "id": "lQiOc46MDeRO",
        "colab_type": "text"
      },
      "source": [
        "# Variables Assignment\n",
        "\n",
        "- Have to create 2 variables: \n",
        " 1. It can hold the path of the data on google drive.\n",
        " 2. Can hold the location in which model will be saved.\n",
        "\n",
        "- The image width and image height are both 170.\n",
        "\n",
        "- In this the batch size of training is 64, for validation data 32 and for testing 1 (because each image will be tested only once)."
      ]
    },
    {
      "cell_type": "code",
      "metadata": {
        "id": "Q_D5oNNOME9l",
        "colab_type": "code",
        "colab": {}
      },
      "source": [
        "\n",
        "AUTOTUNE = tf.data.experimental.AUTOTUNE;\n",
        "\n",
        "model_loc = '/content/gdrive/My Drive/TH-data_Dev/Model_VGG16';\n",
        "plant_data = '/content/gdrive/My Drive/TH-data_Dev/ImagesData';\n",
        "\n",
        "img_width = 160;\n",
        "img_height = 160;\n",
        "test_batch_size = 1;\n",
        "train_batch_size = 64;\n",
        "valid_batch_size = 32;\n"
      ],
      "execution_count": 0,
      "outputs": []
    },
    {
      "cell_type": "markdown",
      "metadata": {
        "id": "f91slfrAEzsD",
        "colab_type": "text"
      },
      "source": [
        "# Functions for Dataset\n",
        "\n",
        "Following the Tensorflow tutorial [Load images with tf.data](https://www.tensorflow.org/alpha/tutorials/load_data/imagesbuild_a_tfdatadataset). also for developing an image data pipeline. \n",
        "\n",
        "- **fetch_images_path** : A function to get all images path in the data directory. Picking all the files (excluded directories) in the data directory, make sure you have only images in the data directory, otherwise add filter in the regular expression.\n",
        "\n",
        "- **get_labels** : This functions gives you the label names and indecies of the those label. We use index '0' for diseased image and '1' for healthy image.\n",
        "\n",
        "- **generate_images_labels** : This functions is responsible to generate lable for each image path, so this functions gives you the target label for each image.\n",
        "\n",
        "- **build_dataset** : This is the main function that takes images path and corresponding labels and return the data set zipped with images and labels. The function use load_images function to load the files.\n",
        "\n",
        "- **load_images** : A function to load all images, resize it into 160 x 160 size and convert each value of the image between 0-1. "
      ]
    },
    {
      "cell_type": "code",
      "metadata": {
        "id": "L840W91LFW7Q",
        "colab_type": "code",
        "colab": {}
      },
      "source": [
        "def fetch_images_path(data_dir):\n",
        "  images_path = list(data_dir.glob('*/**/*'));\n",
        "  images_path = [str(path) for path in images_path];\n",
        "  random.shuffle(images_path);\n",
        "  return images_path;\n",
        "\n",
        "def get_labels(data_dir):\n",
        "  label_names = sorted(item.name for item in data_dir.glob('*/') if item.is_dir());\n",
        "  label_index = dict((name, index) for index,name in enumerate(label_names));\n",
        "  return label_names, label_index;\n",
        "\n",
        "def generate_images_labels(images_path, label_index):\n",
        "  images_labels = [label_index[pathlib.Path(path).parent.name]\n",
        "                    for path in images_path];\n",
        "  return images_labels;\n",
        "\n",
        "def build_dataset(images_path, images_label):\n",
        "  path_ds = tf.data.Dataset.from_tensor_slices(images_path);\n",
        "  image_ds = path_ds.map(load_images, num_parallel_calls=tf.data.experimental.AUTOTUNE);\n",
        "  label_ds = tf.data.Dataset.from_tensor_slices(tf.cast(images_label, tf.int64));\n",
        "  image_label_ds = tf.data.Dataset.zip((image_ds, label_ds));\n",
        "  return image_label_ds;\n",
        "\n",
        "def load_images(path):\n",
        "  image = tf.io.read_file(path);\n",
        "  image = tf.image.decode_jpeg(image, channels=3);\n",
        "  image = tf.image.resize(image, [160, 160]);\n",
        "  image /= 255.0;\n",
        "  return image;\n"
      ],
      "execution_count": 0,
      "outputs": []
    },
    {
      "cell_type": "markdown",
      "metadata": {
        "id": "HPrOIoJBIASg",
        "colab_type": "text"
      },
      "source": [
        "# Images Path and Labels\n",
        "\n",
        "- Using fetch_images_path function to load all images path.\n",
        "\n",
        "- Using get_labels functions to get the unique set of label name and a dictory to have target index against each label."
      ]
    },
    {
      "cell_type": "code",
      "metadata": {
        "id": "SiER-mM0dQ4V",
        "colab_type": "code",
        "outputId": "46f1ece9-38a9-468b-a945-47353875f072",
        "colab": {
          "base_uri": "https://localhost:8080/",
          "height": 85
        }
      },
      "source": [
        "\n",
        "data_root = pathlib.Path(plant_data)\n",
        "print(data_root);\n",
        "\n",
        "images_path = fetch_images_path(data_root);\n",
        "\n",
        "label_name, label_index = get_labels(data_root);\n",
        "\n",
        "print(len(images_path));\n",
        "\n",
        "print(label_name);\n",
        "print(label_index);"
      ],
      "execution_count": 7,
      "outputs": [
        {
          "output_type": "stream",
          "text": [
            "/content/gdrive/My Drive/TH-data_Dev/ImagesData\n",
            "3377\n",
            "['PV_diseased', 'PV_healthy']\n",
            "{'PV_diseased': 0, 'PV_healthy': 1}\n"
          ],
          "name": "stdout"
        }
      ]
    },
    {
      "cell_type": "markdown",
      "metadata": {
        "id": "gy2LVJ44JZ44",
        "colab_type": "text"
      },
      "source": [
        "# Training, Validation and Test Sets\n",
        "\n",
        "- It's used 75% data for training, 15% for validation and 10% for testing of the model.\n",
        "\n",
        "- In below section it first calculate size of training, validation and testing data accorading to the percentage of 75, 15 and 10 respectively. \n",
        "\n",
        "- Once all sizes are calculated I sliced the images path accordingly to the size of training, validation and testing. First assign testing data, then validation data and remaining data is assigned for training.\n",
        "\n",
        "- Note: after fetching all images path, shuffle the data to have random images path thus assigning static slicing to test, validation and training is not an issue here."
      ]
    },
    {
      "cell_type": "code",
      "metadata": {
        "id": "OgN-fa14pKdF",
        "colab_type": "code",
        "outputId": "36ea5d7b-79d6-4c2a-80f1-8f6565fcbff2",
        "colab": {
          "base_uri": "https://localhost:8080/",
          "height": 85
        }
      },
      "source": [
        "total_images = len(images_path);\n",
        "test_size = tf.cast(tf.math.ceil(total_images * 0.05), tf.int32).numpy();\n",
        "valid_size = tf.cast(tf.math.ceil(total_images * 0.15), tf.int32).numpy();\n",
        "train_size = total_images - test_size - valid_size;\n",
        "\n",
        "print(train_size, valid_size, test_size);\n",
        "\n",
        "test_images_path = images_path[:test_size];\n",
        "valid_images_path = images_path[test_size:test_size+valid_size];\n",
        "train_images_path = images_path[test_size+valid_size:];\n",
        "\n",
        "print(\"Test data size : \", len(test_images_path));\n",
        "print(\"Train data size : \", len(train_images_path));\n",
        "print(\"Train data size : \", len(valid_images_path));\n"
      ],
      "execution_count": 8,
      "outputs": [
        {
          "output_type": "stream",
          "text": [
            "2701 507 169\n",
            "Test data size :  169\n",
            "Train data size :  2701\n",
            "Train data size :  507\n"
          ],
          "name": "stdout"
        }
      ]
    },
    {
      "cell_type": "markdown",
      "metadata": {
        "id": "GihoTWeENi7q",
        "colab_type": "text"
      },
      "source": [
        "Distribution\n"
      ]
    },
    {
      "cell_type": "code",
      "metadata": {
        "id": "H3i3Ssntszh4",
        "colab_type": "code",
        "outputId": "9421857e-beb6-42aa-8642-cb7d02d41d45",
        "colab": {
          "base_uri": "https://localhost:8080/",
          "height": 68
        }
      },
      "source": [
        "def data_dist(images_path):\n",
        "  hl_count = 0;\n",
        "  ds_count = 0;\n",
        "  for y in images_path:\n",
        "    if pathlib.Path(y).parent.name == 'healthy_data':\n",
        "      hl_count = hl_count + 1;\n",
        "    else:\n",
        "      ds_count = ds_count + 1;\n",
        "  return hl_count, ds_count;\n",
        "\n",
        "print(\"Test Data Dist : \", data_dist(test_images_path))\n",
        "print(\"Valid Data Dist : \", data_dist(valid_images_path))\n",
        "print(\"Train Data Dist : \", data_dist(train_images_path))"
      ],
      "execution_count": 9,
      "outputs": [
        {
          "output_type": "stream",
          "text": [
            "Test Data Dist :  (0, 169)\n",
            "Valid Data Dist :  (0, 507)\n",
            "Train Data Dist :  (0, 2701)\n"
          ],
          "name": "stdout"
        }
      ]
    },
    {
      "cell_type": "markdown",
      "metadata": {
        "id": "TC4qZ3SXb4nh",
        "colab_type": "text"
      },
      "source": [
        "# Building the Dataset\n",
        "\n",
        "- Once images path are divided into train, validation and testing set we need to create data api for all 3 sets.\n",
        "\n",
        "- First identify the label for each image path assigned to each set (training, validation and testing), for that I use generate_images_labels function.\n",
        "\n",
        "- Once we have images path and corresponding label we can zip it into dataset and create dataset for training, validation and testing. build_dataset function is used for that purpose which take images path and labels to create dataset."
      ]
    },
    {
      "cell_type": "code",
      "metadata": {
        "id": "zkY-y4GtwiEg",
        "colab_type": "code",
        "outputId": "89b65bb6-5e2f-48f3-a381-aab2561c8d29",
        "colab": {
          "base_uri": "https://localhost:8080/",
          "height": 68
        }
      },
      "source": [
        "test_labels = generate_images_labels(test_images_path,label_index);\n",
        "valid_labels = generate_images_labels(valid_images_path,label_index);\n",
        "train_labels = generate_images_labels(train_images_path,label_index);\n",
        "\n",
        "test_dataset = build_dataset(test_images_path,test_labels);\n",
        "valid_dataset = build_dataset(valid_images_path,valid_labels);\n",
        "train_dataset = build_dataset(train_images_path,train_labels);\n",
        "\n",
        "print(test_dataset);\n",
        "print(valid_dataset);\n",
        "print(train_dataset);\n"
      ],
      "execution_count": 10,
      "outputs": [
        {
          "output_type": "stream",
          "text": [
            "<ZipDataset shapes: ((160, 160, 3), ()), types: (tf.float32, tf.int64)>\n",
            "<ZipDataset shapes: ((160, 160, 3), ()), types: (tf.float32, tf.int64)>\n",
            "<ZipDataset shapes: ((160, 160, 3), ()), types: (tf.float32, tf.int64)>\n"
          ],
          "name": "stdout"
        }
      ]
    },
    {
      "cell_type": "markdown",
      "metadata": {
        "id": "oezxUo6Uhjj7",
        "colab_type": "text"
      },
      "source": [
        "# Configure Datasets to the Model\n",
        "\n",
        "- Once all three dataset is created it's need to configure it so that data can be feed into a model.\n",
        "\n",
        "- For training dataset, first configure it to use cache so that it reduce the disk hit for loading the data, also configure it to use shuffle and repeat so that each batch of the training data will have evenly distributed data. After that provided the batch size for training so that data is feeded to the model in batches and computed the number of steps required to fully feed that training data in single epoch.\n",
        "\n",
        "- For validation data, using cache similarly to training data, but we don't need to use shuffle and repeat because in each batch would like to have unique images. Setting the batch size of validation data and computed the number of steps required to validate all validation data.\n",
        "\n",
        "- For test data it's provided similarly configuration that we have for validation data except that was set batch size of 1 so that each images is tested only once.\n"
      ]
    },
    {
      "cell_type": "code",
      "metadata": {
        "id": "XVtuDdHUZ4-m",
        "colab_type": "code",
        "outputId": "e5855262-982c-4a9c-e95c-fc51d40b8fc7",
        "colab": {
          "base_uri": "https://localhost:8080/",
          "height": 68
        }
      },
      "source": [
        "train_ds = train_dataset.cache();\n",
        "train_ds = train_ds.apply(tf.data.experimental.shuffle_and_repeat(buffer_size=len(train_images_path)));\n",
        "train_ds = train_ds.batch(train_batch_size).prefetch(buffer_size=AUTOTUNE);\n",
        "\n",
        "train_steps=tf.math.ceil(len(train_images_path)/train_batch_size).numpy()\n",
        "print(train_steps);\n",
        "\n",
        "valid_ds = valid_dataset.cache();\n",
        "valid_ds = valid_ds.batch(valid_batch_size);\n",
        "valid_ds = valid_ds.prefetch(buffer_size=AUTOTUNE);\n",
        "\n",
        "valid_steps=tf.math.ceil(len(valid_images_path)/valid_batch_size).numpy()\n",
        "print(valid_steps);\n",
        "\n",
        "test_ds = test_dataset.cache();\n",
        "test_ds = test_ds.batch(test_batch_size);\n",
        "test_ds = test_ds.prefetch(buffer_size=AUTOTUNE);\n",
        "\n",
        "test_steps=tf.math.ceil(len(test_images_path)/test_batch_size).numpy()\n",
        "print(test_steps);"
      ],
      "execution_count": 11,
      "outputs": [
        {
          "output_type": "stream",
          "text": [
            "43.0\n",
            "16.0\n",
            "169.0\n"
          ],
          "name": "stdout"
        }
      ]
    },
    {
      "cell_type": "markdown",
      "metadata": {
        "id": "Kscd78VQc3Q1",
        "colab_type": "text"
      },
      "source": [
        "# Plotting Functions\n",
        "\n",
        "\n",
        "- **plotaccuracy** : Take history of the model and show the accuracy achieve on both training and validation data. The magenta color graph represent the accuracy of training data and green graph represent the accuracy on validation data.\n",
        "\n",
        "- **plotloss** : Take history of the model and show the loss acheive on both training and validation data. The red color graph represent the loss of training data and blue graph represent the loss on validation data.\n",
        "\n"
      ]
    },
    {
      "cell_type": "code",
      "metadata": {
        "id": "XwSmXT3HWc7y",
        "colab_type": "code",
        "colab": {}
      },
      "source": [
        "def plotaccuracy(history):\n",
        "  train_acc = history['accuracy'];\n",
        "  val_acc = history['val_accuracy'];\n",
        "\n",
        "  epochs = range(1,len(train_acc)+1);\n",
        "\n",
        "  plt.plot(epochs,train_acc,'m', label=\"Training Accuracy\");\n",
        "  plt.plot(epochs,val_acc,'g', label=\"Validation Accuracy\");\n",
        "  plt.title(\"Training Validation Accuracy\");\n",
        "  plt.legend();\n",
        "  plt.show();\n",
        "  \n",
        "def plotloss(history):\n",
        "  train_loss = history['loss'];\n",
        "  val_loss = history['val_loss'];\n",
        "\n",
        "  epochs = range(1,len(train_loss)+1);\n",
        "\n",
        "  plt.plot(epochs,train_loss,'r', label=\"Training Loss\");\n",
        "  plt.plot(epochs,val_loss,'b', label=\"Validation Loss\");\n",
        "  plt.title(\"Training Validation Loss\");\n",
        "  plt.legend();\n",
        "  plt.show();\n",
        "  return;"
      ],
      "execution_count": 0,
      "outputs": []
    },
    {
      "cell_type": "markdown",
      "metadata": {
        "id": "nBDWlZK-eAX6",
        "colab_type": "text"
      },
      "source": [
        "# Model Design and Training\n",
        "\n",
        "- This work used pretained VGG16 model with fine tuning on last two convolutional layer.\n",
        "\n",
        "- In below section it's defined a function which take training data, validation data, path on which model will be saved, training steps require per epoch and validation steps require per epoch.\n",
        "\n",
        "- First have to set the `conv_base` non trainable so that we only trained the parameters of Dense layer (Top layer). Using two Dense of 512 unit with `relu` as activation function and a dropout of 50% between both Dense layer. We use `sigmoid` function on output layer\n",
        "\n",
        "-  Model is compiled on optimizer with learning rate `0.0001` and `binary_crossentropy` loss function.\n",
        "\n",
        "- In callback functions using EarlySopping with patience 10 and ReduceRL to redeuce the learning rate by factor of 0.2 if now further validation loss is seen. We use ModelCheckpoint to save only best model.\n",
        "\n",
        "- The model is trained on training data with validation date for 100 epoch, as we used early stopping so if there is no decrease in validation loss for 10 epochs the training will be stopped.\n",
        "\n",
        "- Once newly added Dense layers weights are updated/trained, and update the `conv_base` for last two layers to be trainable. \n",
        "\n",
        "- Now model is retrained with new configurationa and adjusts the weights of last two convolutional layers and Dense layers.\n",
        "\n",
        "- Plotting the graph of both accuracy and loss after both setups.\n",
        "\n",
        "- All of above steps in coupled into train_vgg16_model function, which is called at the end of the below section. It cause the training of the model."
      ]
    },
    {
      "cell_type": "code",
      "metadata": {
        "colab_type": "code",
        "outputId": "fa71e10d-3afc-4ca1-f8b7-87f0cb084ed8",
        "id": "4cQ7FhLmxJMY",
        "colab": {
          "base_uri": "https://localhost:8080/",
          "height": 1000
        }
      },
      "source": [
        "def train_vgg16_model(train_dataset, valid_dataset, model_path, train_steps, valid_steps):\n",
        "  conv_base = tf.keras.applications.VGG16(weights='imagenet',include_top=False,input_shape=(160, 160, 3));\n",
        "  conv_base.trainable = False;\n",
        "  model = tf.keras.Sequential()\n",
        "  model.add(conv_base)\n",
        "  model.add(tf.keras.layers.Flatten())\n",
        "  model.add(tf.keras.layers.Dense(512, activation='relu'))\n",
        "  model.add(tf.keras.layers.Dropout(0.5))\n",
        "  model.add(tf.keras.layers.Dense(512, activation='relu'))\n",
        "  model.add(tf.keras.layers.Dense(1, activation='sigmoid'));\n",
        "\n",
        "  model.compile(optimizer=tf.keras.optimizers.Adam(lr=1e-4),loss='binary_crossentropy',metrics=['accuracy']);\n",
        "\n",
        "  earlystop = tf.keras.callbacks.EarlyStopping(patience=10);\n",
        "  reduce_lr = tf.keras.callbacks.ReduceLROnPlateau(monitor='val_loss', factor=0.2,patience=5, min_lr=0.000001);\n",
        "  modelsave = tf.keras.callbacks.ModelCheckpoint(filepath=model_path, save_best_only=True, verbose=1)\n",
        "\n",
        "  model.fit_generator(train_dataset, steps_per_epoch=train_steps, epochs=100, validation_steps=valid_steps,\n",
        "                          validation_data=valid_dataset,callbacks=[earlystop, modelsave, reduce_lr]);\n",
        "  \n",
        "  history = model.history.history;\n",
        "\n",
        "  plotaccuracy(history);\n",
        "  plotloss(history);\n",
        "  \n",
        "  conv_base.trainable = True;\n",
        "  set_trainable = False\n",
        "  for layer in conv_base.layers:\n",
        "    if layer.name == 'block4_conv1':\n",
        "        set_trainable = True\n",
        "    if set_trainable:\n",
        "        layer.trainable = True\n",
        "    else:\n",
        "        layer.trainable = False\n",
        "  \n",
        "  model.compile(optimizer=tf.keras.optimizers.Adam(lr=1e-4),loss='binary_crossentropy',metrics=['accuracy']);\n",
        "  reduce_lr = tf.keras.callbacks.ReduceLROnPlateau(monitor='val_loss', factor=0.2, patience=5, min_lr=0.0000001);\n",
        "  \n",
        "  model.fit_generator(train_dataset, steps_per_epoch=train_steps, epochs=100, validation_steps=valid_steps,\n",
        "                          validation_data=valid_dataset,callbacks=[earlystop, modelsave, reduce_lr]);\n",
        "  \n",
        "  history = model.history.history;\n",
        "\n",
        "  plotaccuracy(history);\n",
        "  plotloss(history);\n",
        "  return model;\n",
        "\n",
        "model_name = os.path.join(model_loc,'Classification_final.h5');\n",
        "model_vgg16 = train_vgg16_model(train_ds,valid_ds,model_name,train_steps,valid_steps);\n"
      ],
      "execution_count": 16,
      "outputs": [
        {
          "output_type": "stream",
          "text": [
            "Epoch 1/100\n",
            "42/43 [============================>.] - ETA: 0s - loss: 0.5234 - accuracy: 0.7440\n",
            "Epoch 00001: val_loss improved from inf to 0.41236, saving model to /content/gdrive/My Drive/TH-data_Dev/Model_VGG16/Classification_final.h5\n",
            "43/43 [==============================] - 39s 897ms/step - loss: 0.5210 - accuracy: 0.7460 - val_loss: 0.4124 - val_accuracy: 0.8146\n",
            "Epoch 2/100\n",
            "42/43 [============================>.] - ETA: 0s - loss: 0.4086 - accuracy: 0.8166\n",
            "Epoch 00002: val_loss improved from 0.41236 to 0.37244, saving model to /content/gdrive/My Drive/TH-data_Dev/Model_VGG16/Classification_final.h5\n",
            "43/43 [==============================] - 13s 294ms/step - loss: 0.4071 - accuracy: 0.8169 - val_loss: 0.3724 - val_accuracy: 0.8343\n",
            "Epoch 3/100\n",
            "42/43 [============================>.] - ETA: 0s - loss: 0.3361 - accuracy: 0.8534\n",
            "Epoch 00003: val_loss improved from 0.37244 to 0.34524, saving model to /content/gdrive/My Drive/TH-data_Dev/Model_VGG16/Classification_final.h5\n",
            "43/43 [==============================] - 13s 296ms/step - loss: 0.3371 - accuracy: 0.8525 - val_loss: 0.3452 - val_accuracy: 0.8422\n",
            "Epoch 4/100\n",
            "42/43 [============================>.] - ETA: 0s - loss: 0.2934 - accuracy: 0.8728\n",
            "Epoch 00004: val_loss did not improve from 0.34524\n",
            "43/43 [==============================] - 12s 285ms/step - loss: 0.2918 - accuracy: 0.8743 - val_loss: 0.3563 - val_accuracy: 0.8422\n",
            "Epoch 5/100\n",
            "42/43 [============================>.] - ETA: 0s - loss: 0.2707 - accuracy: 0.8899\n",
            "Epoch 00005: val_loss did not improve from 0.34524\n",
            "43/43 [==============================] - 12s 279ms/step - loss: 0.2706 - accuracy: 0.8895 - val_loss: 0.3470 - val_accuracy: 0.8323\n",
            "Epoch 6/100\n",
            "42/43 [============================>.] - ETA: 0s - loss: 0.2330 - accuracy: 0.9044\n",
            "Epoch 00006: val_loss did not improve from 0.34524\n",
            "43/43 [==============================] - 12s 276ms/step - loss: 0.2307 - accuracy: 0.9055 - val_loss: 0.3625 - val_accuracy: 0.8442\n",
            "Epoch 7/100\n",
            "42/43 [============================>.] - ETA: 0s - loss: 0.2042 - accuracy: 0.9200\n",
            "Epoch 00007: val_loss did not improve from 0.34524\n",
            "43/43 [==============================] - 12s 278ms/step - loss: 0.2022 - accuracy: 0.9211 - val_loss: 0.3601 - val_accuracy: 0.8521\n",
            "Epoch 8/100\n",
            "42/43 [============================>.] - ETA: 0s - loss: 0.1839 - accuracy: 0.9260\n",
            "Epoch 00008: val_loss did not improve from 0.34524\n",
            "43/43 [==============================] - 12s 277ms/step - loss: 0.1833 - accuracy: 0.9266 - val_loss: 0.3813 - val_accuracy: 0.8383\n",
            "Epoch 9/100\n",
            "42/43 [============================>.] - ETA: 0s - loss: 0.1366 - accuracy: 0.9528\n",
            "Epoch 00009: val_loss did not improve from 0.34524\n",
            "43/43 [==============================] - 12s 280ms/step - loss: 0.1354 - accuracy: 0.9531 - val_loss: 0.3798 - val_accuracy: 0.8422\n",
            "Epoch 10/100\n",
            "42/43 [============================>.] - ETA: 0s - loss: 0.1233 - accuracy: 0.9621\n",
            "Epoch 00010: val_loss did not improve from 0.34524\n",
            "43/43 [==============================] - 12s 281ms/step - loss: 0.1228 - accuracy: 0.9618 - val_loss: 0.3853 - val_accuracy: 0.8462\n",
            "Epoch 11/100\n",
            "42/43 [============================>.] - ETA: 0s - loss: 0.1104 - accuracy: 0.9639\n",
            "Epoch 00011: val_loss did not improve from 0.34524\n",
            "43/43 [==============================] - 12s 280ms/step - loss: 0.1101 - accuracy: 0.9644 - val_loss: 0.3803 - val_accuracy: 0.8540\n",
            "Epoch 12/100\n",
            "42/43 [============================>.] - ETA: 0s - loss: 0.1010 - accuracy: 0.9714\n",
            "Epoch 00012: val_loss did not improve from 0.34524\n",
            "43/43 [==============================] - 12s 278ms/step - loss: 0.1009 - accuracy: 0.9713 - val_loss: 0.3715 - val_accuracy: 0.8462\n",
            "Epoch 13/100\n",
            "42/43 [============================>.] - ETA: 0s - loss: 0.0997 - accuracy: 0.9676\n",
            "Epoch 00013: val_loss did not improve from 0.34524\n",
            "43/43 [==============================] - 12s 278ms/step - loss: 0.1002 - accuracy: 0.9669 - val_loss: 0.3819 - val_accuracy: 0.8501\n"
          ],
          "name": "stdout"
        },
        {
          "output_type": "display_data",
          "data": {
            "image/png": "iVBORw0KGgoAAAANSUhEUgAAAXoAAAEICAYAAABRSj9aAAAABHNCSVQICAgIfAhkiAAAAAlwSFlz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\nQmCC\n",
            "text/plain": [
              "<Figure size 432x288 with 1 Axes>"
            ]
          },
          "metadata": {
            "tags": []
          }
        },
        {
          "output_type": "display_data",
          "data": {
            "image/png": "iVBORw0KGgoAAAANSUhEUgAAAXQAAAEICAYAAABPgw/pAAAABHNCSVQICAgIfAhkiAAAAAlwSFlz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\n",
            "text/plain": [
              "<Figure size 432x288 with 1 Axes>"
            ]
          },
          "metadata": {
            "tags": []
          }
        },
        {
          "output_type": "stream",
          "text": [
            "Epoch 1/100\n",
            "42/43 [============================>.] - ETA: 0s - loss: 0.6473 - accuracy: 0.7355\n",
            "Epoch 00001: val_loss did not improve from 0.34524\n",
            "43/43 [==============================] - 42s 970ms/step - loss: 0.6406 - accuracy: 0.7376 - val_loss: 0.5302 - val_accuracy: 0.7771\n",
            "Epoch 2/100\n",
            "42/43 [============================>.] - ETA: 0s - loss: 0.3690 - accuracy: 0.8322\n",
            "Epoch 00002: val_loss did not improve from 0.34524\n",
            "43/43 [==============================] - 15s 353ms/step - loss: 0.3670 - accuracy: 0.8325 - val_loss: 0.3503 - val_accuracy: 0.8363\n",
            "Epoch 3/100\n",
            "42/43 [============================>.] - ETA: 0s - loss: 0.3404 - accuracy: 0.8438\n",
            "Epoch 00003: val_loss improved from 0.34524 to 0.32199, saving model to /content/gdrive/My Drive/TH-data_Dev/Model_VGG16/Classification_final.h5\n",
            "43/43 [==============================] - 17s 389ms/step - loss: 0.3399 - accuracy: 0.8445 - val_loss: 0.3220 - val_accuracy: 0.8481\n",
            "Epoch 4/100\n",
            "42/43 [============================>.] - ETA: 0s - loss: 0.2766 - accuracy: 0.8724\n",
            "Epoch 00004: val_loss improved from 0.32199 to 0.27766, saving model to /content/gdrive/My Drive/TH-data_Dev/Model_VGG16/Classification_final.h5\n",
            "43/43 [==============================] - 18s 419ms/step - loss: 0.2734 - accuracy: 0.8739 - val_loss: 0.2777 - val_accuracy: 0.8836\n",
            "Epoch 5/100\n",
            "42/43 [============================>.] - ETA: 0s - loss: 0.2141 - accuracy: 0.9048\n",
            "Epoch 00005: val_loss did not improve from 0.27766\n",
            "43/43 [==============================] - 16s 364ms/step - loss: 0.2143 - accuracy: 0.9052 - val_loss: 0.3023 - val_accuracy: 0.8639\n",
            "Epoch 6/100\n",
            "42/43 [============================>.] - ETA: 0s - loss: 0.1796 - accuracy: 0.9278\n",
            "Epoch 00006: val_loss did not improve from 0.27766\n",
            "43/43 [==============================] - 15s 357ms/step - loss: 0.1785 - accuracy: 0.9281 - val_loss: 0.2963 - val_accuracy: 0.8817\n",
            "Epoch 7/100\n",
            "42/43 [============================>.] - ETA: 0s - loss: 0.1228 - accuracy: 0.9516\n",
            "Epoch 00007: val_loss improved from 0.27766 to 0.25303, saving model to /content/gdrive/My Drive/TH-data_Dev/Model_VGG16/Classification_final.h5\n",
            "43/43 [==============================] - 17s 402ms/step - loss: 0.1219 - accuracy: 0.9520 - val_loss: 0.2530 - val_accuracy: 0.9093\n",
            "Epoch 8/100\n",
            "42/43 [============================>.] - ETA: 0s - loss: 0.1202 - accuracy: 0.9542\n",
            "Epoch 00008: val_loss did not improve from 0.25303\n",
            "43/43 [==============================] - 15s 360ms/step - loss: 0.1202 - accuracy: 0.9535 - val_loss: 0.3270 - val_accuracy: 0.8974\n",
            "Epoch 9/100\n",
            "42/43 [============================>.] - ETA: 0s - loss: 0.0983 - accuracy: 0.9635\n",
            "Epoch 00009: val_loss did not improve from 0.25303\n",
            "43/43 [==============================] - 15s 352ms/step - loss: 0.0970 - accuracy: 0.9640 - val_loss: 0.2824 - val_accuracy: 0.8895\n",
            "Epoch 10/100\n",
            "42/43 [============================>.] - ETA: 0s - loss: 0.0694 - accuracy: 0.9751\n",
            "Epoch 00010: val_loss did not improve from 0.25303\n",
            "43/43 [==============================] - 15s 358ms/step - loss: 0.0685 - accuracy: 0.9753 - val_loss: 0.4386 - val_accuracy: 0.9034\n",
            "Epoch 11/100\n",
            "42/43 [============================>.] - ETA: 0s - loss: 0.0475 - accuracy: 0.9818\n",
            "Epoch 00011: val_loss did not improve from 0.25303\n",
            "43/43 [==============================] - 15s 352ms/step - loss: 0.0465 - accuracy: 0.9822 - val_loss: 0.4628 - val_accuracy: 0.8994\n",
            "Epoch 12/100\n",
            "42/43 [============================>.] - ETA: 0s - loss: 0.0464 - accuracy: 0.9840\n",
            "Epoch 00012: val_loss did not improve from 0.25303\n",
            "43/43 [==============================] - 15s 351ms/step - loss: 0.0462 - accuracy: 0.9840 - val_loss: 0.3099 - val_accuracy: 0.9112\n",
            "Epoch 13/100\n",
            "42/43 [============================>.] - ETA: 0s - loss: 0.0290 - accuracy: 0.9911\n",
            "Epoch 00013: val_loss did not improve from 0.25303\n",
            "43/43 [==============================] - 15s 352ms/step - loss: 0.0286 - accuracy: 0.9913 - val_loss: 0.3059 - val_accuracy: 0.9093\n",
            "Epoch 14/100\n",
            "42/43 [============================>.] - ETA: 0s - loss: 0.0121 - accuracy: 0.9959\n",
            "Epoch 00014: val_loss did not improve from 0.25303\n",
            "43/43 [==============================] - 15s 354ms/step - loss: 0.0122 - accuracy: 0.9956 - val_loss: 0.3875 - val_accuracy: 0.9053\n",
            "Epoch 15/100\n",
            "42/43 [============================>.] - ETA: 0s - loss: 0.0081 - accuracy: 0.9970\n",
            "Epoch 00015: val_loss did not improve from 0.25303\n",
            "43/43 [==============================] - 15s 353ms/step - loss: 0.0081 - accuracy: 0.9971 - val_loss: 0.3410 - val_accuracy: 0.9191\n",
            "Epoch 16/100\n",
            "42/43 [============================>.] - ETA: 0s - loss: 0.0093 - accuracy: 0.9955\n",
            "Epoch 00016: val_loss did not improve from 0.25303\n",
            "43/43 [==============================] - 15s 352ms/step - loss: 0.0103 - accuracy: 0.9953 - val_loss: 0.3720 - val_accuracy: 0.9172\n",
            "Epoch 17/100\n",
            "42/43 [============================>.] - ETA: 0s - loss: 0.0083 - accuracy: 0.9970\n",
            "Epoch 00017: val_loss did not improve from 0.25303\n",
            "43/43 [==============================] - 15s 355ms/step - loss: 0.0081 - accuracy: 0.9971 - val_loss: 0.3767 - val_accuracy: 0.9093\n"
          ],
          "name": "stdout"
        },
        {
          "output_type": "display_data",
          "data": {
            "image/png": "iVBORw0KGgoAAAANSUhEUgAAAXoAAAEICAYAAABRSj9aAAAABHNCSVQICAgIfAhkiAAAAAlwSFlz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\nRU5ErkJggg==\n",
            "text/plain": [
              "<Figure size 432x288 with 1 Axes>"
            ]
          },
          "metadata": {
            "tags": []
          }
        },
        {
          "output_type": "display_data",
          "data": {
            "image/png": "iVBORw0KGgoAAAANSUhEUgAAAXQAAAEICAYAAABPgw/pAAAABHNCSVQICAgIfAhkiAAAAAlwSFlz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\njPES/w9tYIYzHGTqZQAAAABJRU5ErkJggg==\n",
            "text/plain": [
              "<Figure size 432x288 with 1 Axes>"
            ]
          },
          "metadata": {
            "tags": []
          }
        }
      ]
    },
    {
      "cell_type": "markdown",
      "metadata": {
        "id": "ApODJfaAlcTL",
        "colab_type": "text"
      },
      "source": [
        "# Test Data Accuracy and Report\n",
        "\n",
        "- Once model is trained and saved, we used the model to test the performance of the model on unseen data (test data).\n",
        "\n",
        "- Evaluate the test data to have loss and accracy on test data. \n",
        "\n",
        "- As we know that data is imbalance we have more images of diseased type than healthy type so accuracy may not seems best representative of model performance. We need a report which gives us precision, recall and F1 score.\n",
        "\n",
        "- To get a report, first predict the probabilty against each test sample using predict function of the model, and then convert each probability into its respective class/type/target.\n",
        "\n",
        "- Once the class have been predicted, then I use sklearn classification_report function to generate a report by using true class and predicted class.\n",
        "\n",
        "- The classification report is a better measurement to test the performance of a model as compare to accuracy. "
      ]
    },
    {
      "cell_type": "code",
      "metadata": {
        "id": "3RobwfGHQuiq",
        "colab_type": "code",
        "outputId": "bf3d37f3-1808-48d3-c11e-c07073344ee3",
        "colab": {
          "base_uri": "https://localhost:8080/",
          "height": 238
        }
      },
      "source": [
        "print(model_vgg16.evaluate_generator(test_ds,steps=test_steps));\n",
        "\n",
        "predictions = model_vgg16.predict_generator(test_ds, steps=test_steps,verbose=1);\n",
        "\n",
        "predicted_classes = [];\n",
        "for i in predictions:\n",
        "  if i >= 0.5:\n",
        "    predicted_classes.append(1)\n",
        "  else:\n",
        "    predicted_classes.append(0);\n",
        "    \n",
        "\n",
        "report = classification_report(test_labels, predicted_classes, target_names=label_name)\n",
        "print(report)\n",
        "\n",
        "conf_matrix = confusion_matrix(y_true=test_labels, y_pred=predicted_classes)\n",
        "print(conf_matrix)"
      ],
      "execution_count": 17,
      "outputs": [
        {
          "output_type": "stream",
          "text": [
            "[0.2580953111517059, 0.9526627]\n",
            "169/169 [==============================] - 3s 17ms/step\n",
            "              precision    recall  f1-score   support\n",
            "\n",
            " PV_diseased       0.95      0.97      0.96        96\n",
            "  PV_healthy       0.96      0.93      0.94        73\n",
            "\n",
            "    accuracy                           0.95       169\n",
            "   macro avg       0.95      0.95      0.95       169\n",
            "weighted avg       0.95      0.95      0.95       169\n",
            "\n",
            "[[93  3]\n",
            " [ 5 68]]\n"
          ],
          "name": "stdout"
        }
      ]
    }
  ]
}
